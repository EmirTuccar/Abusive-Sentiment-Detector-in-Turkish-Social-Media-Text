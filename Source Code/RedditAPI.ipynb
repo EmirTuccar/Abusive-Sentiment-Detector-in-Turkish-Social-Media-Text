{
 "cells": [
  {
   "cell_type": "code",
   "execution_count": 36,
   "metadata": {},
   "outputs": [],
   "source": [
    "import praw\n",
    "import pandas as pd\n",
    "reddit = praw.Reddit(client_id='XXXXXXXX', client_secret='XXXXXXXXXXXX',user_agent=\"XXXXXXXXXXXXXXXX by u/xxxxxxxx\", username='xxxxxxx', password='xxxxxxxxxx')\n",
    "\n"
   ]
  },
  {
   "cell_type": "code",
   "execution_count": 45,
   "metadata": {},
   "outputs": [],
   "source": [
    "url = \"https://www.reddit.com/r/KGBTR/comments/r5gyqp/yarat%C4%B1c%C4%B1_k%C3%BCf%C3%BCr_%C3%B6nerme_postu_birbirimize_yarat%C4%B1c%C4%B1/\"\n",
    "post = reddit.submission(url=url)"
   ]
  },
  {
   "cell_type": "code",
   "execution_count": 40,
   "metadata": {},
   "outputs": [
    {
     "name": "stdout",
     "output_type": "stream",
     "text": [
      "XXXXXXXXXXXXXX\n"
     ]
    }
   ],
   "source": [
    "print(reddit.user.me())"
   ]
  },
  {
   "cell_type": "code",
   "execution_count": 46,
   "metadata": {},
   "outputs": [
    {
     "name": "stdout",
     "output_type": "stream",
     "text": [
      "Slk mal aptl\n",
      "Ahlaksız herif (biraz ağır)\n",
      "Götüne duracel pil rakar 10 kata kadar hızlı sikerim\n",
      "Ben flood şeklinde küfrediyorum.\n",
      "Annene pipimi firlatayim\n",
      "Lodosu ananın amına yönlendiririm pezevenk orospu evladı.\n",
      "Kürtaj gazisi\n",
      "Ananı öyle bi sikiyim ki kabesi yıkılmış peygamber gibi ağlasın orospu evladı seni\n",
      "Ananın geçtiği köprünün ayaklarını sikeyim\n",
      "Aklını siktiğimin ahtapot beyinlisi, götünden uyduracak başka bir konu bulamadın mı!\n",
      "Ananı hollandaya üroloji okutmaya gönderiyim.\n",
      "Çiş kafa🤭\n",
      "Şırıngamla kekine beyaz çikolata basayım\n",
      "Ananın amından tutup camdan sarkıtayım yoyo gibi seksin orospu karı\n",
      "Hashaşlı amcıklı poğaça. Ilk duydugumda şok olmustum. Kufur sayilmaz ama yenir\n",
      "KGBde bir süre önce gördüğüm sohbet, direkt flood kasamdan atayım\n",
      "\n",
      "Sənin mən varyoxuvu sikim qaşqaldax qaldığım məhlənin şəklini çəksəm tumanıva işəyərsən. Nə peysər adamsane aq dollar ucuzdu deyə ekonomi yaxşı olmuş olur ay xiyar? 1650 kamputeri 2000 manata almışam azenin ekonomisi yaxşıdı deyir. Sikimin başına yaxşıdı.\n",
      "\n",
      "Onda araşdır sora danış blya götünnən basıb bağlayıb camatın əsəbiynən oynama.\n",
      "Alagavat boynuzlu pezevenk\n",
      "[deleted]\n",
      "Ananı medine dilencileri, önündeki mendilleri ağzına tıkayıp bozuk paraları kafasına vura vura siksin.\n",
      "yarrağına boşaldığım\n",
      "Senin ananın amina Windows 7 bağlarım mavi ekran hatası verene kadar sikerim\n",
      "Senin anana double triple quadra penta turbo unstabbale permantasyon uyguluyim\n",
      "Ananın o yosun tutmuş daramcıgını koca haşmetli hergün 31 çekerek bakım yaptığım yarrağımı boğazından sokup o yosunlu amından çıkarayım.\n",
      "ananın anına dozer sokayım gökdelen dikip her hatta ayrı sikeyim orospu çocuğu\n",
      "ananı ters yatırıp düz sikerim\n",
      "cu da atom bombası patlatırım\n",
      "Ammına siktiğim\n",
      "Beyin hücreni sikeyim\n",
      "Mıhlama, ananda çernobil patlamasını yaratıyım dalyarak\n",
      "amına osturduğum\n",
      "7 sülalene bisiklet gidonı sokayım\n",
      "Seni öyle bir sikerim ki şeytan bile maşallah çeker sen gidi göt lalesi\n",
      " amk mk aq mq\n",
      "Anasının amındaki kılları cımbızla yolduğumun çocuğu.\n",
      "Belasıyla çoklaştığım\n",
      "Ananın amına otel kurarım\n",
      "Pipi\n",
      "Ağır olcak ama pipim annene girsn oç\n",
      "Ananın amına paslı çivi çakayım çok iyi ağza oturuyo\n",
      "sikeyim\n",
      "amınakoyayım\n",
      "akpli\n",
      "soyundan başlayıp baltanın sapına kadar herkesi delik deşik ederim gavat puşt\n",
      "Yarramı rokete çevirir ananın amına ateşlerim\n",
      "yavşak, puşt\n",
      "Bak bu güzelmiş\n",
      "Aa ulan bunu sönmez reis söylemisti doğru bu sayılmaz\n",
      "Yok 1 yaşında aq\n",
      "Yarraldığım.\n",
      "\n",
      "***\n",
      "\n",
      "^(Bleep-bloop, I'm a bot. This )^[portmanteau](https://en.wikipedia.org/wiki/Portmanteau) ^( was created from the phrase 'yarrağına boşaldığım' | )^[FAQs](https://www.reddit.com/axl72o) ^(|) ^[Feedback](https://www.reddit.com/message/compose?to=jamcowl&subject=PORTMANTEAU-BOT+feedback) ^(|) ^[Opt-out](https://www.reddit.com/message/compose?to=PORTMANTEAU-BOT&subject=OPTOUTREQUEST)\n",
      "Kardeş anlatım bozukluğunun allahını yapmışsın amk adama bunu atsan türkçenle dalga geçer\n",
      "Aniden gelen farkindalik\n",
      "[deleted]\n",
      "Good bot\n",
      "Düzeltimişi \n",
      "Anne'nin yosun tutmuş dar amcığını, haşmetli, hergün 31 çekerek bakım yaptığım yarrağımı boğazından sokarak o amcığından çıkarayım.\n",
      "Çok yalan gibi geldi aq annen direk bunları mı öğretti aq\n",
      "Thank you, Omer57Kenan58, for voting on PORTMANTEAU-BOT.\n",
      "\n",
      "This bot wants to find the best and worst bots on Reddit. [You can view results here](https://botrank.pastimes.eu/).\n",
      "\n",
      "***\n",
      "\n",
      "^(Even if I don't reply to your comment, I'm still listening for votes. Check the webpage to see if your vote registered!)\n",
      "[deleted]\n",
      "Tm ozaman inanırım\n"
     ]
    },
    {
     "ename": "",
     "evalue": "",
     "output_type": "error",
     "traceback": [
      "\u001b[1;31mThe Kernel crashed while executing code in the the current cell or a previous cell. Please review the code in the cell(s) to identify a possible cause of the failure. Click <a href='https://aka.ms/vscodeJupyterKernelCrash'>here</a> for more info. View Jupyter <a href='command:jupyter.viewOutput'>log</a> for further details."
     ]
    }
   ],
   "source": [
    "\n",
    "post.comments.replace_more(limit=None)\n",
    "comments = []\n",
    "for comment in post.comments.list():\n",
    "    comments.append({'comment': comment.body})\n",
    "    \n",
    "    \n",
    "df = pd.DataFrame(comments)\n",
    "print(df)\n"
   ]
  }
 ],
 "metadata": {
  "kernelspec": {
   "display_name": "Python 3",
   "language": "python",
   "name": "python3"
  },
  "language_info": {
   "codemirror_mode": {
    "name": "ipython",
    "version": 3
   },
   "file_extension": ".py",
   "mimetype": "text/x-python",
   "name": "python",
   "nbconvert_exporter": "python",
   "pygments_lexer": "ipython3",
   "version": "3.10.10"
  }
 },
 "nbformat": 4,
 "nbformat_minor": 2
}
